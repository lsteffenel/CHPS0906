{
  "cells": [
    {
      "cell_type": "markdown",
      "metadata": {
        "id": "view-in-github",
        "colab_type": "text"
      },
      "source": [
        "<a href=\"https://colab.research.google.com/github/lsteffenel/CHPS0906/blob/main/TP1/6-Visualiser%20un%20pooling.ipynb\" target=\"_parent\"><img src=\"https://colab.research.google.com/assets/colab-badge.svg\" alt=\"Open In Colab\"/></a>"
      ]
    },
    {
      "cell_type": "markdown",
      "metadata": {
        "id": "uk8W-1xUbdyS"
      },
      "source": [
        "# Couche de pooling max\n",
        "\n",
        "Dans ce notebook nous ajoutons et visualisons la sortie d'une couche de pooling max dans un CNN.\n",
        "\n",
        "Une couche convolutionnelle + fonction d'activation, suivie d'une couche de pooling et d'une couche linéaire (pour créer une taille de sortie souhaitée) constituent les couches de base d'un CNN.\n",
        "\n",
        "<img src='https://github.com/udacity/deep-learning-v2-pytorch/blob/master/convolutional-neural-networks/conv-visualization/notebook_ims/CNN_all_layers.png?raw=1' height=50% width=50% />"
      ]
    },
    {
      "cell_type": "markdown",
      "metadata": {
        "id": "9nD98bAzbdyU"
      },
      "source": [
        "### Importer une image"
      ]
    },
    {
      "cell_type": "code",
      "execution_count": null,
      "metadata": {
        "collapsed": true,
        "id": "NG8oISIHbdyV"
      },
      "outputs": [],
      "source": [
        "import cv2\n",
        "import matplotlib.pyplot as plt\n",
        "%matplotlib inline\n",
        "\n",
        "# TODO: Déposer une image dans l'onglet \"Fichiers\". Ensuite, renseignez le nom du fichier ci-dessous\n",
        "img_path = 'car_sdc.png'\n",
        "\n",
        "# load color image\n",
        "bgr_img = cv2.imread(img_path)\n",
        "# convert to grayscale\n",
        "gray_img = cv2.cvtColor(bgr_img, cv2.COLOR_BGR2GRAY)\n",
        "\n",
        "# normalize, rescale entries to lie in [0,1]\n",
        "gray_img = gray_img.astype(\"float32\")/255\n",
        "\n",
        "# plot image\n",
        "plt.imshow(gray_img, cmap='gray')\n",
        "plt.show()"
      ]
    },
    {
      "cell_type": "markdown",
      "metadata": {
        "id": "KV1ixlwlbdyW"
      },
      "source": [
        "### Définir et visualiser les filtres"
      ]
    },
    {
      "cell_type": "code",
      "execution_count": null,
      "metadata": {
        "collapsed": true,
        "id": "YkvaUff8bdyX"
      },
      "outputs": [],
      "source": [
        "import numpy as np\n",
        "\n",
        "## TODO: Feel free to modify the numbers here, to try out another filter!\n",
        "filter_vals = np.array([[-1, -1, 1, 1], [-1, -1, 1, 1], [-1, -1, 1, 1], [-1, -1, 1, 1]])\n",
        "\n",
        "print('Filter shape: ', filter_vals.shape)\n"
      ]
    },
    {
      "cell_type": "code",
      "execution_count": null,
      "metadata": {
        "collapsed": true,
        "id": "BR1gkEPFbdyX"
      },
      "outputs": [],
      "source": [
        "# Defining four different filters,\n",
        "# all of which are linear combinations of the `filter_vals` defined above\n",
        "\n",
        "# define four filters\n",
        "filter_1 = filter_vals\n",
        "filter_2 = -filter_1\n",
        "filter_3 = filter_1.T\n",
        "filter_4 = -filter_3\n",
        "filters = np.array([filter_1, filter_2, filter_3, filter_4])\n",
        "\n",
        "# For an example, print out the values of filter 1\n",
        "print('Filter 1: \\n', filter_1)"
      ]
    },
    {
      "cell_type": "markdown",
      "metadata": {
        "id": "paHWsFNkbdyX"
      },
      "source": [
        "### Définir les couches convolutionnelles et de pooling\n",
        "\n",
        "Vous avez déjà vu comment définir une couche convolutionnelle. L'étape suivante est celle de définir une **Couche de pooling**.\n",
        "\n",
        "Dans le paragraphe suivant, nous initialisons une couche convolutionnelle afin qu'elle contienne tous les filtres créés. Ajoutez ensuite une couche de pooling max, [documentée ici](http://pytorch.org/docs/stable/_modules/torch/nn/modules/pooling.html), avec une taille de filtre de (2x2) afin que vous puissiez voir que la résolution de l'image a été réduite après cette étape !\n",
        "\n",
        "Une couche de pooling max réduit la taille x-y d'une entrée et ne conserve que les valeurs de pixels les plus *actives*. Vous trouverez ci-dessous un exemple de noyau de pooling 2x2, avec un pas de 2, appliqué à un petit patch de valeurs de pixels en niveaux de gris ; réduisant la taille x-y du patch d'un facteur 2. Seules les valeurs de pixels maximales dans 2x2 restent dans la nouvelle sortie groupée.\n",
        "\n",
        "<img src='https://github.com/udacity/deep-learning-v2-pytorch/blob/master/convolutional-neural-networks/conv-visualization/notebook_ims/maxpooling_ex.png?raw=1' hauteur=50% largeur=50% />"
      ]
    },
    {
      "cell_type": "code",
      "execution_count": null,
      "metadata": {
        "collapsed": true,
        "id": "oIiuCu_mbdyX"
      },
      "outputs": [],
      "source": [
        "import torch\n",
        "import torch.nn as nn\n",
        "import torch.nn.functional as F\n",
        "\n",
        "# define a neural network with a convolutional layer with four filters\n",
        "# AND a pooling layer of size (2, 2)\n",
        "class Net(nn.Module):\n",
        "\n",
        "    def __init__(self, weight):\n",
        "        super(Net, self).__init__()\n",
        "        # initializes the weights of the convolutional layer to be the weights of the 4 defined filters\n",
        "        k_height, k_width = weight.shape[2:]\n",
        "        # assumes there are 4 grayscale filters\n",
        "        self.conv = nn.Conv2d(1, 4, kernel_size=(k_height, k_width), bias=False)\n",
        "        self.conv.weight = torch.nn.Parameter(weight)\n",
        "        # define a pooling layer\n",
        "        self.pool = nn.MaxPool2d(2, 2)\n",
        "\n",
        "    def forward(self, x):\n",
        "        # calculates the output of a convolutional layer\n",
        "        # pre- and post-activation\n",
        "        conv_x = self.conv(x)\n",
        "        activated_x = F.relu(conv_x)\n",
        "\n",
        "        # applies pooling layer\n",
        "        pooled_x = self.pool(activated_x)\n",
        "\n",
        "        # returns all layers\n",
        "        return conv_x, activated_x, pooled_x\n",
        "\n",
        "# instantiate the model and set the weights\n",
        "weight = torch.from_numpy(filters).unsqueeze(1).type(torch.FloatTensor)\n",
        "model = Net(weight)\n",
        "\n",
        "# print out the layer in the network\n",
        "print(model)"
      ]
    },
    {
      "cell_type": "markdown",
      "metadata": {
        "id": "p2oxz4kybdyY"
      },
      "source": [
        "### Visualisez la sortie de chaque filtre\n",
        "\n",
        "Nous allons d'abord définir une fonction d'assistance, `viz_layer`, qui prend en compte une couche spécifique et un nombre de filtres (argument facultatif) et affiche la sortie de cette couche une fois qu'une image a été transmise."
      ]
    },
    {
      "cell_type": "code",
      "execution_count": null,
      "metadata": {
        "collapsed": true,
        "id": "RDzh2nHnbdyY"
      },
      "outputs": [],
      "source": [
        "# helper function for visualizing the output of a given layer\n",
        "# default number of filters is 4\n",
        "def viz_layer(layer, n_filters= 4):\n",
        "    fig = plt.figure(figsize=(20, 20))\n",
        "\n",
        "    for i in range(n_filters):\n",
        "        ax = fig.add_subplot(1, n_filters, i+1)\n",
        "        # grab layer outputs\n",
        "        ax.imshow(np.squeeze(layer[0,i].data.numpy()), cmap='gray')\n",
        "        ax.set_title('Output %s' % str(i+1))"
      ]
    },
    {
      "cell_type": "markdown",
      "metadata": {
        "id": "JYtsJtKnbdyY"
      },
      "source": [
        "Regardons la sortie d'une couche convolutionnelle après l'application d'une fonction d'activation ReLu.\n",
        "\n",
        "#### Activation ReLu\n",
        "\n",
        "Une fonction ReLu transforme toutes les valeurs de pixels négatives en 0 (noir). Voir l'équation illustrée ci-dessous pour les valeurs de pixels d'entrée, `x`.\n",
        "\n",
        "<img src='https://github.com/udacity/deep-learning-v2-pytorch/blob/master/convolutional-neural-networks/conv-visualization/notebook_ims/relu_ex.png?raw=1' height=50% width=50% />"
      ]
    },
    {
      "cell_type": "code",
      "execution_count": null,
      "metadata": {
        "collapsed": true,
        "id": "FabPPK0vbdyY"
      },
      "outputs": [],
      "source": [
        "# plot original image\n",
        "plt.imshow(gray_img, cmap='gray')\n",
        "\n",
        "# visualize all filters\n",
        "fig = plt.figure(figsize=(12, 6))\n",
        "fig.subplots_adjust(left=0, right=1.5, bottom=0.8, top=1, hspace=0.05, wspace=0.05)\n",
        "for i in range(4):\n",
        "    ax = fig.add_subplot(1, 4, i+1, xticks=[], yticks=[])\n",
        "    ax.imshow(filters[i], cmap='gray')\n",
        "    ax.set_title('Filter %s' % str(i+1))\n",
        "\n",
        "\n",
        "# convert the image into an input Tensor\n",
        "gray_img_tensor = torch.from_numpy(gray_img).unsqueeze(0).unsqueeze(1)\n",
        "\n",
        "# get all the layers\n",
        "conv_layer, activated_layer, pooled_layer = model(gray_img_tensor)\n",
        "\n",
        "# visualize the output of the activated conv layer\n",
        "viz_layer(activated_layer)"
      ]
    },
    {
      "cell_type": "markdown",
      "metadata": {
        "id": "AkSNziCxbdyY"
      },
      "source": [
        "### Visualisez la sortie de la couche de pooling\n",
        "\n",
        "Ensuite, regardez la sortie d'une couche de pooling. La couche pooling prend en entrée les cartes de caractéristiques illustrées ci-dessus et réduit la dimensionnalité de ces cartes par un facteur de compression, en construisant une nouvelle image plus petite contenant uniquement les valeurs maximales (les plus lumineuses) dans une zone de noyau donnée.\n",
        "\n",
        "Regardez les valeurs sur les axes x, y pour voir comment l'image a changé de taille."
      ]
    },
    {
      "cell_type": "code",
      "execution_count": null,
      "metadata": {
        "collapsed": true,
        "id": "ziuljB6MbdyY"
      },
      "outputs": [],
      "source": [
        "# visualize the output of the pooling layer\n",
        "viz_layer(pooled_layer)"
      ]
    },
    {
      "cell_type": "code",
      "source": [],
      "metadata": {
        "id": "W5RwxDYVcoOp"
      },
      "execution_count": null,
      "outputs": []
    }
  ],
  "metadata": {
    "anaconda-cloud": {},
    "kernelspec": {
      "display_name": "Python [default]",
      "language": "python",
      "name": "python3"
    },
    "language_info": {
      "codemirror_mode": {
        "name": "ipython",
        "version": 3
      },
      "file_extension": ".py",
      "mimetype": "text/x-python",
      "name": "python",
      "nbconvert_exporter": "python",
      "pygments_lexer": "ipython3",
      "version": "3.6.4"
    },
    "colab": {
      "provenance": [],
      "include_colab_link": true
    }
  },
  "nbformat": 4,
  "nbformat_minor": 0
}